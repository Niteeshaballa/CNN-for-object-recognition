{
 "cells": [
  {
   "cell_type": "code",
   "execution_count": 1,
   "metadata": {},
   "outputs": [
    {
     "name": "stderr",
     "output_type": "stream",
     "text": [
      "Using TensorFlow backend.\n"
     ]
    }
   ],
   "source": [
    "import numpy\n",
    "from keras.models import Sequential\n",
    "from keras.datasets import cifar10\n",
    "from keras.layers import Dense\n",
    "from keras.layers import Dropout\n",
    "from keras.layers import Flatten\n",
    "from keras.layers.convolutional import Conv2D\n",
    "from keras.layers import MaxPool2D\n",
    "from keras.optimizers import SGD\n",
    "from keras.constraints import maxnorm\n",
    "from keras.utils import np_utils"
   ]
  },
  {
   "cell_type": "code",
   "execution_count": 2,
   "metadata": {},
   "outputs": [],
   "source": [
    "#fix seed\n",
    "seed=7\n",
    "numpy.random.seed(seed)"
   ]
  },
  {
   "cell_type": "code",
   "execution_count": 3,
   "metadata": {},
   "outputs": [],
   "source": [
    "#load data\n",
    "(X_train, y_train), (X_test,y_test) = cifar10.load_data()"
   ]
  },
  {
   "cell_type": "code",
   "execution_count": 4,
   "metadata": {},
   "outputs": [],
   "source": [
    "#normalize inputs from 0-255 to 0.0-1.0\n",
    "X_train = X_train.astype('float32')\n",
    "X_test = X_test.astype('float32')\n",
    "X_train = X_train/255.0\n",
    "X_test = X_test/255.0"
   ]
  },
  {
   "cell_type": "code",
   "execution_count": 5,
   "metadata": {},
   "outputs": [],
   "source": [
    "#onehot encode outputs\n",
    "y_train = np_utils.to_categorical(y_train)\n",
    "y_test = np_utils.to_categorical(y_test)\n",
    "num_classes = y_test.shape[1]"
   ]
  },
  {
   "cell_type": "code",
   "execution_count": 12,
   "metadata": {},
   "outputs": [],
   "source": [
    "#create model\n",
    "model= Sequential()\n",
    "model.add(Conv2D(32, (3, 3), input_shape=(32,32,3), padding='same', activation='relu'))\n",
    "model.add(Dropout(0.2))\n",
    "model.add(Conv2D(32, (3, 3), padding='same', activation='relu'))\n",
    "model.add(MaxPool2D(pool_size=(2,2)))\n",
    "\n",
    "model.add(Conv2D(64, (3, 3), padding='same', activation='relu'))\n",
    "model.add(Dropout(0.2))\n",
    "model.add(Conv2D(64, (3, 3), padding='same', activation='relu'))\n",
    "model.add(MaxPool2D(pool_size=(2,2)))\n",
    "\n",
    "model.add(Conv2D(128, (3, 3), padding='same', activation='relu'))\n",
    "model.add(Dropout(0.2))\n",
    "model.add(Conv2D(128, (3, 3), padding='same', activation='relu'))\n",
    "model.add(MaxPool2D(pool_size=(2,2)))\n",
    "\n",
    "model.add(Conv2D(256, (3, 3), padding='same', activation='relu'))\n",
    "model.add(Dropout(0.2))\n",
    "model.add(Conv2D(256, (3, 3), padding='same', activation='relu'))\n",
    "model.add(MaxPool2D(pool_size=(2,2)))\n",
    "\n",
    "model.add(Conv2D(512, (3, 3), padding='same', activation='relu'))\n",
    "model.add(Dropout(0.2))\n",
    "model.add(Conv2D(512, (3, 3), padding='same', activation='relu'))\n",
    "model.add(MaxPool2D(pool_size=(2,2)))\n",
    "\n",
    "model.add(Flatten())\n",
    "model.add(Dense(1024, activation='relu', kernel_constraint=maxnorm(3)))\n",
    "model.add(Dropout(0.2))\n",
    "model.add(Dense(512, activation='relu', kernel_constraint=maxnorm(3)))\n",
    "model.add(Dropout(0.2))\n",
    "model.add(Dense(256, activation='relu', kernel_constraint=maxnorm(3)))\n",
    "model.add(Dropout(0.2))\n",
    "model.add(Dense(num_classes, activation='softmax'))"
   ]
  },
  {
   "cell_type": "code",
   "execution_count": 13,
   "metadata": {},
   "outputs": [],
   "source": [
    "#compile model\n",
    "epochs=50\n",
    "lrate = 0.01\n",
    "decay = lrate/epochs\n",
    "sgd = SGD(lr=lrate, momentum=0.9, decay=decay, nesterov=False)\n",
    "model.compile(loss='categorical_crossentropy', optimizer=sgd, metrics=['accuracy'])"
   ]
  },
  {
   "cell_type": "code",
   "execution_count": 14,
   "metadata": {},
   "outputs": [
    {
     "name": "stdout",
     "output_type": "stream",
     "text": [
      "Train on 50000 samples, validate on 10000 samples\n",
      "Epoch 1/50\n",
      "50000/50000 [==============================] - 2249s 45ms/step - loss: 2.0764 - acc: 0.2142 - val_loss: 1.8602 - val_acc: 0.3086\n",
      "Epoch 2/50\n",
      "50000/50000 [==============================] - 2379s 48ms/step - loss: 1.6954 - acc: 0.3594 - val_loss: 1.5628 - val_acc: 0.4209\n",
      "Epoch 3/50\n",
      "50000/50000 [==============================] - 2653s 53ms/step - loss: 1.4883 - acc: 0.4485 - val_loss: 1.4848 - val_acc: 0.4635\n",
      "Epoch 4/50\n",
      "50000/50000 [==============================] - 2400s 48ms/step - loss: 1.3167 - acc: 0.5177 - val_loss: 1.3174 - val_acc: 0.5375\n",
      "Epoch 5/50\n",
      "50000/50000 [==============================] - 3477s 70ms/step - loss: 1.1645 - acc: 0.5816 - val_loss: 1.1295 - val_acc: 0.5928\n",
      "Epoch 6/50\n",
      "50000/50000 [==============================] - 4329s 87ms/step - loss: 1.0317 - acc: 0.6338 - val_loss: 0.9470 - val_acc: 0.6737\n",
      "Epoch 7/50\n",
      "50000/50000 [==============================] - 4254s 85ms/step - loss: 0.9227 - acc: 0.6762 - val_loss: 0.8832 - val_acc: 0.6947\n",
      "Epoch 8/50\n",
      "50000/50000 [==============================] - 2202s 44ms/step - loss: 0.8245 - acc: 0.7140 - val_loss: 0.8227 - val_acc: 0.7197\n",
      "Epoch 9/50\n",
      "50000/50000 [==============================] - 2592s 52ms/step - loss: 0.7460 - acc: 0.7432 - val_loss: 0.8306 - val_acc: 0.7259\n",
      "Epoch 10/50\n",
      "50000/50000 [==============================] - 2431s 49ms/step - loss: 0.6781 - acc: 0.7666 - val_loss: 0.7857 - val_acc: 0.7385\n",
      "Epoch 11/50\n",
      "50000/50000 [==============================] - 2120s 42ms/step - loss: 0.6225 - acc: 0.7848 - val_loss: 0.7575 - val_acc: 0.7481\n",
      "Epoch 12/50\n",
      "50000/50000 [==============================] - 2087s 42ms/step - loss: 0.5709 - acc: 0.8037 - val_loss: 0.8050 - val_acc: 0.7396\n",
      "Epoch 13/50\n",
      "50000/50000 [==============================] - 2076s 42ms/step - loss: 0.5197 - acc: 0.8217 - val_loss: 0.7070 - val_acc: 0.7646\n",
      "Epoch 14/50\n",
      "50000/50000 [==============================] - 2083s 42ms/step - loss: 0.4769 - acc: 0.8362 - val_loss: 0.7485 - val_acc: 0.7622\n",
      "Epoch 15/50\n",
      "50000/50000 [==============================] - 2098s 42ms/step - loss: 0.4412 - acc: 0.8484 - val_loss: 0.7311 - val_acc: 0.7742\n",
      "Epoch 16/50\n",
      "50000/50000 [==============================] - 2114s 42ms/step - loss: 0.4039 - acc: 0.8596 - val_loss: 0.7413 - val_acc: 0.7755\n",
      "Epoch 17/50\n",
      "50000/50000 [==============================] - 2099s 42ms/step - loss: 0.3785 - acc: 0.8706 - val_loss: 0.7057 - val_acc: 0.7789\n",
      "Epoch 18/50\n",
      "50000/50000 [==============================] - 2098s 42ms/step - loss: 0.3419 - acc: 0.8826 - val_loss: 0.7405 - val_acc: 0.7764\n",
      "Epoch 19/50\n",
      "50000/50000 [==============================] - 2093s 42ms/step - loss: 0.3126 - acc: 0.8923 - val_loss: 0.7356 - val_acc: 0.7875\n",
      "Epoch 20/50\n",
      "50000/50000 [==============================] - 2098s 42ms/step - loss: 0.2891 - acc: 0.9002 - val_loss: 0.7525 - val_acc: 0.7761\n",
      "Epoch 21/50\n",
      "50000/50000 [==============================] - 2123s 42ms/step - loss: 0.2666 - acc: 0.9087 - val_loss: 0.7518 - val_acc: 0.7871\n",
      "Epoch 22/50\n",
      "50000/50000 [==============================] - 2165s 43ms/step - loss: 0.2477 - acc: 0.9146 - val_loss: 0.8524 - val_acc: 0.7736\n",
      "Epoch 23/50\n",
      "50000/50000 [==============================] - 2126s 43ms/step - loss: 0.2294 - acc: 0.9212 - val_loss: 0.7782 - val_acc: 0.7858\n",
      "Epoch 24/50\n",
      "50000/50000 [==============================] - 2235s 45ms/step - loss: 0.2057 - acc: 0.9295 - val_loss: 0.8457 - val_acc: 0.7809\n",
      "Epoch 25/50\n",
      "50000/50000 [==============================] - 2207s 44ms/step - loss: 0.1939 - acc: 0.9339 - val_loss: 0.8997 - val_acc: 0.7779\n",
      "Epoch 26/50\n",
      "50000/50000 [==============================] - 2119s 42ms/step - loss: 0.1826 - acc: 0.9372 - val_loss: 0.8622 - val_acc: 0.7900\n",
      "Epoch 27/50\n",
      "50000/50000 [==============================] - 2131s 43ms/step - loss: 0.1625 - acc: 0.9440 - val_loss: 0.8600 - val_acc: 0.7888\n",
      "Epoch 28/50\n",
      "50000/50000 [==============================] - 2199s 44ms/step - loss: 0.1537 - acc: 0.9469 - val_loss: 0.8804 - val_acc: 0.7846\n",
      "Epoch 29/50\n",
      "50000/50000 [==============================] - 2122s 42ms/step - loss: 0.1411 - acc: 0.9511 - val_loss: 0.8449 - val_acc: 0.7939\n",
      "Epoch 30/50\n",
      "50000/50000 [==============================] - 2139s 43ms/step - loss: 0.1342 - acc: 0.9537 - val_loss: 0.9040 - val_acc: 0.7880\n",
      "Epoch 31/50\n",
      "50000/50000 [==============================] - 2130s 43ms/step - loss: 0.1250 - acc: 0.9576 - val_loss: 0.9327 - val_acc: 0.7863\n",
      "Epoch 32/50\n",
      "50000/50000 [==============================] - 2131s 43ms/step - loss: 0.1199 - acc: 0.9589 - val_loss: 0.9179 - val_acc: 0.7881\n",
      "Epoch 33/50\n",
      "50000/50000 [==============================] - 2119s 42ms/step - loss: 0.1082 - acc: 0.9630 - val_loss: 0.9466 - val_acc: 0.7880\n",
      "Epoch 34/50\n",
      "50000/50000 [==============================] - 2084s 42ms/step - loss: 0.0987 - acc: 0.9659 - val_loss: 0.9366 - val_acc: 0.7906\n",
      "Epoch 35/50\n",
      "50000/50000 [==============================] - 2098s 42ms/step - loss: 0.0984 - acc: 0.9660 - val_loss: 0.9481 - val_acc: 0.7902\n",
      "Epoch 36/50\n",
      "50000/50000 [==============================] - 2427s 49ms/step - loss: 0.0922 - acc: 0.9678 - val_loss: 0.9687 - val_acc: 0.7906\n",
      "Epoch 37/50\n",
      "50000/50000 [==============================] - 2215s 44ms/step - loss: 0.0823 - acc: 0.9716 - val_loss: 0.9813 - val_acc: 0.7889\n",
      "Epoch 38/50\n",
      "50000/50000 [==============================] - 2378s 48ms/step - loss: 0.0837 - acc: 0.9707 - val_loss: 0.9876 - val_acc: 0.7901\n",
      "Epoch 39/50\n",
      "50000/50000 [==============================] - 2649s 53ms/step - loss: 0.0778 - acc: 0.9729 - val_loss: 1.0287 - val_acc: 0.7856\n",
      "Epoch 40/50\n",
      "50000/50000 [==============================] - 2640s 53ms/step - loss: 0.0752 - acc: 0.9741 - val_loss: 0.9983 - val_acc: 0.7914\n",
      "Epoch 41/50\n",
      "50000/50000 [==============================] - 2046s 41ms/step - loss: 0.0683 - acc: 0.9761 - val_loss: 1.0136 - val_acc: 0.7917\n",
      "Epoch 42/50\n",
      "50000/50000 [==============================] - 2169s 43ms/step - loss: 0.0649 - acc: 0.9777 - val_loss: 1.0219 - val_acc: 0.7921\n",
      "Epoch 43/50\n",
      "50000/50000 [==============================] - 2228s 45ms/step - loss: 0.0638 - acc: 0.9784 - val_loss: 1.0274 - val_acc: 0.7914\n",
      "Epoch 44/50\n",
      "50000/50000 [==============================] - 2261s 45ms/step - loss: 0.0599 - acc: 0.9802 - val_loss: 1.0227 - val_acc: 0.7927\n",
      "Epoch 45/50\n",
      "50000/50000 [==============================] - 2385s 48ms/step - loss: 0.0583 - acc: 0.9804 - val_loss: 1.0367 - val_acc: 0.7956\n",
      "Epoch 46/50\n",
      "50000/50000 [==============================] - 2315s 46ms/step - loss: 0.0530 - acc: 0.9821 - val_loss: 1.0493 - val_acc: 0.7968\n",
      "Epoch 47/50\n",
      "50000/50000 [==============================] - 2070s 41ms/step - loss: 0.0538 - acc: 0.9815 - val_loss: 1.0355 - val_acc: 0.7938\n",
      "Epoch 48/50\n",
      "50000/50000 [==============================] - 2287s 46ms/step - loss: 0.0527 - acc: 0.9824 - val_loss: 1.0211 - val_acc: 0.7973\n",
      "Epoch 49/50\n",
      "50000/50000 [==============================] - 2061s 41ms/step - loss: 0.0500 - acc: 0.9822 - val_loss: 1.0220 - val_acc: 0.7963\n",
      "Epoch 50/50\n",
      "50000/50000 [==============================] - 2055s 41ms/step - loss: 0.0447 - acc: 0.9852 - val_loss: 1.0404 - val_acc: 0.7958\n"
     ]
    },
    {
     "data": {
      "text/plain": [
       "<keras.callbacks.History at 0x203ce55f278>"
      ]
     },
     "execution_count": 14,
     "metadata": {},
     "output_type": "execute_result"
    }
   ],
   "source": [
    "#fit model\n",
    "model.fit(X_train, y_train, validation_data=(X_test,y_test), epochs=epochs, batch_size=32, verbose=1)"
   ]
  },
  {
   "cell_type": "code",
   "execution_count": 15,
   "metadata": {},
   "outputs": [
    {
     "name": "stdout",
     "output_type": "stream",
     "text": [
      "10000/10000 [==============================] - 93s 9ms/step\n",
      "Accuracy: 79.58%\n"
     ]
    }
   ],
   "source": [
    "#evaluation of the model\n",
    "scores = model.evaluate(X_test,y_test,verbose=1)\n",
    "print(\"Accuracy: %.2f%%\" %(scores[1]*100))"
   ]
  }
 ],
 "metadata": {
  "kernelspec": {
   "display_name": "Python 3",
   "language": "python",
   "name": "python3"
  },
  "language_info": {
   "codemirror_mode": {
    "name": "ipython",
    "version": 3
   },
   "file_extension": ".py",
   "mimetype": "text/x-python",
   "name": "python",
   "nbconvert_exporter": "python",
   "pygments_lexer": "ipython3",
   "version": "3.7.3"
  }
 },
 "nbformat": 4,
 "nbformat_minor": 2
}
